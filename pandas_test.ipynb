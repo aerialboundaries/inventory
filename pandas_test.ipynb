{
 "cells": [
  {
   "cell_type": "code",
   "execution_count": 1,
   "metadata": {},
   "outputs": [],
   "source": [
    "import logging\n",
    "import os\n",
    "import sqlite3\n",
    "\n",
    "import pandas as pd\n"
   ]
  },
  {
   "cell_type": "code",
   "execution_count": 26,
   "metadata": {},
   "outputs": [
    {
     "name": "stdout",
     "output_type": "stream",
     "text": [
      "Sucess!\n"
     ]
    }
   ],
   "source": [
    "def write_guilty_list_actage_csv(start, end):\n",
    "    try:\n",
    "        # Connect to sqlite3\n",
    "        conn = sqlite3.connect(\"guilty_inventory.sqlite3\")\n",
    "        c = conn.cursor()\n",
    "\n",
    "        # Create dataframes\n",
    "        period = (start, end)\n",
    "        df =  pd.read_sql(\n",
    "            \"\"\"\n",
    "            select * from t_guilty_list_actage where business_unit in ('D1', 'D2')\n",
    "            and inv_month between '%s' and '%s'\n",
    "            \"\"\" % period, conn\n",
    "        )\n",
    "        \n",
    "#         # Commit\n",
    "#         conn.commit()\n",
    "\n",
    "        # Close connection to sqlite3\n",
    "        c.close()\n",
    "        conn.close()\n",
    "        \n",
    "        df = df.sort_values(['inv_month', 'business_unit', 'inv_model'])\n",
    "        df.to_csv('guilty_list_actage.csv', index=False)\n",
    "\n",
    "    except Exception as e:\n",
    "        print(e)\n",
    "\n",
    "    else:\n",
    "        print('Sucess!')\n",
    "        \n",
    "write_guilty_list_actage_csv('2020-03-01 00:00:00', '2020-08-01 00:00:00')"
   ]
  },
  {
   "cell_type": "code",
   "execution_count": 33,
   "metadata": {},
   "outputs": [
    {
     "name": "stdout",
     "output_type": "stream",
     "text": [
      "Sucess!\n"
     ]
    }
   ],
   "source": [
    "def write_guilty_list_newage_csv(start, end):\n",
    "    try:\n",
    "        # Connect to sqlite3\n",
    "        conn = sqlite3.connect(\"guilty_inventory.sqlite3\")\n",
    "        c = conn.cursor()\n",
    "\n",
    "        # Create dataframes\n",
    "        period = (start, end)\n",
    "        df =  pd.read_sql(\n",
    "            \"\"\"\n",
    "            select * from t_guilty_list_newage where business_unit in ('D1', 'D2')\n",
    "            and inv_month between '%s' and '%s'\n",
    "            \"\"\" % period, conn\n",
    "        )\n",
    "        \n",
    "#         # Commit\n",
    "#         conn.commit()\n",
    "\n",
    "        # Close connection to sqlite3\n",
    "        c.close()\n",
    "        conn.close()\n",
    "\n",
    "        df = df.sort_values(['inv_month', 'business_unit', 'inv_model'])\n",
    "        df.to_csv('guilty_list_newage.csv', index=False)\n",
    "\n",
    "    except Exception as e:\n",
    "        print(e)\n",
    "\n",
    "    else:\n",
    "        print('Sucess!')\n",
    "        \n",
    "write_guilty_list_newage_csv('2020-03-01 00:00:00', '2020-08-01 00:00:00')"
   ]
  },
  {
   "cell_type": "code",
   "execution_count": 32,
   "metadata": {},
   "outputs": [
    {
     "name": "stdout",
     "output_type": "stream",
     "text": [
      "Sucess!\n"
     ]
    }
   ],
   "source": [
    "def write_guilty_digest_actage_csv(month):\n",
    "    try:\n",
    "        # Connect to sqlite3\n",
    "        conn = sqlite3.connect(\"guilty_inventory.sqlite3\")\n",
    "        c = conn.cursor()\n",
    "\n",
    "        # Create dataframes\n",
    "        period = (month,)\n",
    "        df =  pd.read_sql(\n",
    "            \"\"\"\n",
    "            select * from t_guilty_digest_actage where inv_month \n",
    "            = '%s'\n",
    "            \"\"\" % period, conn\n",
    "        )\n",
    "        \n",
    "#         # Commit\n",
    "#         conn.commit()\n",
    "\n",
    "        # Close connection to sqlite3\n",
    "        c.close()\n",
    "        conn.close()\n",
    "        \n",
    "        df = df.sort_values(['business_unit', 'inv_model_digest'])\n",
    "        df.to_csv('guilty_digest_actage.csv', index=False)\n",
    "\n",
    "    except Exception as e:\n",
    "        print(e)\n",
    "\n",
    "    else:\n",
    "        print('Sucess!')\n",
    "        \n",
    "write_guilty_digest_actage_csv('2020-08-01 00:00:00')"
   ]
  },
  {
   "cell_type": "code",
   "execution_count": 34,
   "metadata": {},
   "outputs": [
    {
     "name": "stdout",
     "output_type": "stream",
     "text": [
      "Sucess!\n"
     ]
    }
   ],
   "source": [
    "def write_guilty_digest_newage_csv(month):\n",
    "    try:\n",
    "        # Connect to sqlite3\n",
    "        conn = sqlite3.connect(\"guilty_inventory.sqlite3\")\n",
    "        c = conn.cursor()\n",
    "\n",
    "        # Create dataframes\n",
    "        period = (month,)\n",
    "        df =  pd.read_sql(\n",
    "            \"\"\"\n",
    "            select * from t_guilty_digest_newage where inv_month \n",
    "            = '%s'\n",
    "            \"\"\" % period, conn\n",
    "        )\n",
    "        \n",
    "#         # Commit\n",
    "#         conn.commit()\n",
    "\n",
    "        # Close connection to sqlite3\n",
    "        c.close()\n",
    "        conn.close()\n",
    "        \n",
    "        df = df.sort_values(['business_unit', 'inv_model_digest'])\n",
    "        df.to_csv('guilty_digest_newage.csv', index=False)\n",
    "\n",
    "    except Exception as e:\n",
    "        print(e)\n",
    "\n",
    "    else:\n",
    "        print('Sucess!')\n",
    "        \n",
    "write_guilty_digest_newage_csv('2020-08-01 00:00:00')"
   ]
  },
  {
   "cell_type": "code",
   "execution_count": null,
   "metadata": {},
   "outputs": [],
   "source": []
  }
 ],
 "metadata": {
  "kernelspec": {
   "display_name": "Python 3",
   "language": "python",
   "name": "python3"
  },
  "language_info": {
   "codemirror_mode": {
    "name": "ipython",
    "version": 3
   },
   "file_extension": ".py",
   "mimetype": "text/x-python",
   "name": "python",
   "nbconvert_exporter": "python",
   "pygments_lexer": "ipython3",
   "version": "3.8.3"
  }
 },
 "nbformat": 4,
 "nbformat_minor": 4
}
