{
 "cells": [
  {
   "cell_type": "markdown",
   "metadata": {},
   "source": [
    "### One month ago"
   ]
  },
  {
   "cell_type": "code",
   "execution_count": 45,
   "metadata": {},
   "outputs": [
    {
     "name": "stdout",
     "output_type": "stream",
     "text": [
      "2020-02-01 00:00:00\n"
     ]
    }
   ],
   "source": [
    "from datetime import datetime, date, timedelta\n",
    "from dateutil.relativedelta import relativedelta\n",
    "\n",
    "today = datetime(2020, 3, 1)\n",
    "one_month_ago = today - relativedelta(months=1)\n",
    "print(one_month_ago)"
   ]
  },
  {
   "cell_type": "markdown",
   "metadata": {},
   "source": [
    "### Month difference"
   ]
  },
  {
   "cell_type": "code",
   "execution_count": null,
   "metadata": {},
   "outputs": [],
   "source": [
    "from datetime import date\n",
    "def diff_month(d1, d2):\n",
    "    \"\"\" get months between two dates.\n",
    "    >>> from datetime import date\n",
    "    >>> diff_month(date(2012, 12, 1), date(2013, 3, 1))\n",
    "    3\n",
    "    \"\"\"\n",
    "    if d1 > d2:\n",
    "        d1, d2 = d2, d1\n",
    "    return (d2.year - d1.year)*12 + d2.month - d1.month "
   ]
  },
  {
   "cell_type": "markdown",
   "metadata": {},
   "source": [
    "### Get line with max value"
   ]
  },
  {
   "cell_type": "code",
   "execution_count": null,
   "metadata": {},
   "outputs": [],
   "source": [
    "def latest_ps():\n",
    "    \n",
    "    df1 = read_sales()\n",
    "    df1 = df1[['month', 'model']]\n",
    "    df2 = read_purchase()\n",
    "    df2 = df2[['month', 'model']]\n",
    "    df = df1.append(df2)\n",
    "    \n",
    "    # Make a dataframe which has the latest p or s movement by model.\n",
    "    grouped = df.groupby('model')\n",
    "    df = df.loc[grouped['month'].idxmax(),:]\n",
    "    \n",
    "    return df\n",
    "\n",
    "\n",
    "logging.debug('return : \\n' + str(latest_ps()))  "
   ]
  }
 ],
 "metadata": {
  "kernelspec": {
   "display_name": "Python 3",
   "language": "python",
   "name": "python3"
  },
  "language_info": {
   "codemirror_mode": {
    "name": "ipython",
    "version": 3
   },
   "file_extension": ".py",
   "mimetype": "text/x-python",
   "name": "python",
   "nbconvert_exporter": "python",
   "pygments_lexer": "ipython3",
   "version": "3.8.5"
  }
 },
 "nbformat": 4,
 "nbformat_minor": 4
}
