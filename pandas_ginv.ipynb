{
 "cells": [
  {
   "cell_type": "markdown",
   "metadata": {},
   "source": [
    "## Guilty Inventory Report\n",
    "\n",
    "1.  Put csv data files as below.  Each csv files must have datetime format for the dates.\n",
    "\n",
    "```\n",
    "inventory/\n",
    " ├─ pandas_ginv.ipynb\n",
    " ├─ csv_data/         -- aging.csv, business_unit.csv, rate.csv\n",
    " │   ├─inv_data       -- invoice csv files\n",
    " │   ├─purchase_data  -- purchase csv files\n",
    " │   └─sales_data     -- sales csv files\n",
    " └─ reports\n",
    " \n",
    "```\n",
    "2.  From Jupyter, run the whole notebook.\n",
    " \n",
    "3.  Reports are saved in reports folder.\n",
    " "
   ]
  },
  {
   "cell_type": "code",
   "execution_count": 137,
   "metadata": {},
   "outputs": [],
   "source": [
    "from datetime import date\n",
    "import glob\n",
    "import logging\n",
    "import os\n",
    "\n",
    "import pandas as pd\n",
    "\n",
    "logging.basicConfig(level=logging.DEBUG, format=\" %(asctime)s -  %(levelname)s -  %(message)s\")\n",
    "# logging.disable(logging.CRITICAL)\n"
   ]
  },
  {
   "cell_type": "code",
   "execution_count": 178,
   "metadata": {},
   "outputs": [
    {
     "name": "stderr",
     "output_type": "stream",
     "text": [
      " 2020-09-27 23:33:36,508 -  DEBUG -  read_inv : return: \n",
      "          month               model  cat  age  qty       amt\n",
      "0    2019-09-01             AL100DR  213   30   50  38844.50\n",
      "1    2019-09-01             AL100DR  213   90   50  36868.50\n",
      "2    2019-09-01             AL100DR  213  180   24  17731.92\n",
      "3    2019-09-01             AL100RD  213   30   10  76563.30\n",
      "4    2019-09-01           AL100RD/U  213  180   35   3192.70\n",
      "...         ...                 ...  ...  ...  ...       ...\n",
      "8192 2020-08-01      SOLVARILL001/4  195  999    4      0.04\n",
      "8193 2020-08-01      SOLVARILL15MTS  195  360    1      0.01\n",
      "8194 2020-08-01  SOLVARILLA5/16-1MO  195   90    7    339.15\n",
      "8195 2020-08-01    SORIELBONDJUMPER  195   60    2    561.36\n",
      "8196 2020-08-01    SORIELBONDJUMPER  195   90    3    831.52\n",
      "\n",
      "[8099 rows x 6 columns]\n"
     ]
    }
   ],
   "source": [
    "def read_inv():\n",
    "    # Inventory aging preparation from csv data file.\n",
    "    # Copy the original excel sheet to a new sheet & paste value and save as csv.\n",
    "    # Add columun \"inv_month\" with date format like 2019/9/1. (day must be 1st day)\n",
    "\n",
    "    for files in glob.glob('csv_data/inv_data/*.csv'):\n",
    "        useCols = [\"CatNo\", \"Material\", \"Fecha\", \"Suma de Total Qty\", \"Suma de Total $\", \"inv_month\"]\n",
    "\n",
    "        df = pd.read_csv(files, usecols=useCols, parse_dates=[5])\n",
    "        df = df.rename(\n",
    "            columns={\n",
    "                \"CatNo\": \"cat\",\n",
    "                \"Material\": \"model\",\n",
    "                \"Fecha\": \"age\",\n",
    "                \"Suma de Total Qty\": \"qty\",\n",
    "                \"Suma de Total $\": \"amt\",\n",
    "                \"inv_month\": \"month\"\n",
    "            }\n",
    "        )\n",
    "\n",
    "\n",
    "        df = df.reindex(columns=['month', 'model', 'cat', 'qty', 'amt', 'age'])\n",
    "\n",
    "        # Replace the aging date by integer\n",
    "        agedict = {'30D': 30, '60D': 60, '90D': 90, '180D': 180, '270D': 270, '360D': 360, 'MAS': 999}\n",
    "        df = df.replace(agedict)\n",
    "\n",
    "        # Make sure the month to have 1st date of the month.\n",
    "        df[\"month\"] = df[\"month\"].apply(lambda x: x.replace(day=1))\n",
    "\n",
    "        # Grouping by month and model.\n",
    "        grouped = df.groupby([\"month\", \"model\", \"cat\", \"age\"], as_index=False)\n",
    "        df = grouped.sum()\n",
    "        df = df[df['qty'] > 0]\n",
    "        \n",
    "        return df\n",
    "\n",
    "\n",
    "logging.debug('read_inv : return: \\n' + str(read_inv()))"
   ]
  },
  {
   "cell_type": "code",
   "execution_count": 57,
   "metadata": {},
   "outputs": [
    {
     "name": "stderr",
     "output_type": "stream",
     "text": [
      " 2020-09-26 11:14:17,649 -  DEBUG -  read_sales: return: \n",
      "          month       model     qty            amt\n",
      "0    2019-09-01     AL100DR    84.0  102527.860000\n",
      "1    2019-09-01   AL100RD/U   408.0   52412.050000\n",
      "2    2019-09-01   AL100RT/U    30.0    4598.250000\n",
      "3    2019-09-01    AL100TDN    55.0   64295.780000\n",
      "4    2019-09-01  AL204RTC/U  1320.0  292547.800000\n",
      "...         ...         ...     ...            ...\n",
      "2163 2020-08-01     NUAF370   311.0  888944.332500\n",
      "2164 2020-08-01    NUJB395L    51.0  168375.854865\n",
      "2165 2020-08-01     PNC751H     1.0   61600.000000\n",
      "2167 2020-08-01      R21LTF    71.0  481735.650000\n",
      "2168 2020-08-01      R22GTF     1.0   12730.000000\n",
      "\n",
      "[2159 rows x 4 columns]\n"
     ]
    }
   ],
   "source": [
    "def read_sales():\n",
    "    # Sales record preparation from csv and add to sqlite3 t_sales table\n",
    "    # Copy the original sheet to a new sheet & paste value and save as csv.\n",
    "    # Billing doc. date must be formatted to date (ex: 2020/8/2)\n",
    "    # Sort by Billing doc. is ideal.\n",
    "\n",
    "    for targetFile in glob.glob('csv_data/sales_data/*.csv'):\n",
    "        useCols = [\"Billing doc. date\", \"Material\", \"Net Qty\", \"Net $\"]\n",
    "\n",
    "        df = pd.read_csv(targetFile, usecols=useCols, parse_dates=[0])\n",
    "        df = df.rename(\n",
    "            columns={\n",
    "                \"Billing doc. date\": \"month\",\n",
    "                \"Material\": \"model\",\n",
    "                \"Net Qty\": \"qty\",\n",
    "                \"Net $\": \"amt\",\n",
    "            }\n",
    "        )\n",
    "\n",
    "        # Modify the sales month to have 1st date of the month\n",
    "        df[\"month\"] = df[\"month\"].apply(lambda x: x.replace(day=1))\n",
    "        grouped = df.groupby([\"month\", \"model\"], as_index=False)\n",
    "        df = grouped.sum()\n",
    "        df = df[df['qty'] > 0]\n",
    "        return df\n",
    "\n",
    "\n",
    "logging.debug('read_sales: return: \\n' + str(read_sales()))"
   ]
  },
  {
   "cell_type": "code",
   "execution_count": 62,
   "metadata": {},
   "outputs": [
    {
     "name": "stderr",
     "output_type": "stream",
     "text": [
      " 2020-09-26 11:25:19,413 -  DEBUG -  read_purchase: return: \n",
      "          month     model  qty        amt\n",
      "0    2019-08-01   AL100DR   50   37313.26\n",
      "1    2019-08-01  AL100TDN   10    7374.75\n",
      "2    2019-08-01   AL204TD  270  164136.56\n",
      "3    2019-08-01   AR016RT   10   75774.58\n",
      "4    2019-08-01   AR152DR  220   52016.99\n",
      "...         ...       ...  ...        ...\n",
      "1712 2020-08-01   MXM6570   10  896823.06\n",
      "1713 2020-08-01   MXM7570    5  471964.79\n",
      "1714 2020-08-01    MXRB24    6   16698.45\n",
      "1715 2020-08-01    MXRB26    9   27578.21\n",
      "1716 2020-08-01    MXTU16  514  420601.33\n",
      "\n",
      "[1717 rows x 4 columns]\n"
     ]
    }
   ],
   "source": [
    "def read_purchase():\n",
    "    # Purchase preparation from csv and add to sqlite3 t_purchase table\n",
    "    # Copy the original sheet to a new sheet & paste value and save as csv.\n",
    "\n",
    "    for files in glob.glob('csv_data/purchase_data/*.csv'):\n",
    "\n",
    "        useCols = [\"Material\", \"Posting date\", \"Net Qty\", \"Net - $\"]\n",
    "\n",
    "        df = pd.read_csv(files, header=0, usecols=useCols, parse_dates=[1])\n",
    "        df = df.rename(\n",
    "            columns={\n",
    "                \"Material\": \"model\",\n",
    "                \"Net Qty\": \"qty\",\n",
    "                \"Net - $\": \"amt\",\n",
    "                \"Posting date\": \"month\"\n",
    "            }\n",
    "        )\n",
    "\n",
    "\n",
    "        df = df.reindex(columns=['month', 'model', 'qty', 'amt'])\n",
    "\n",
    "        # Modify the month to have 1st date of the month\n",
    "        df[\"month\"] = df[\"month\"].apply(lambda x: x.replace(day=1))\n",
    "\n",
    "       # Grouping by in_month and inv_model\n",
    "        grouped = df.groupby([\"month\", \"model\"], as_index=False)\n",
    "        df = grouped.sum()\n",
    "        df = df[df['qty'] > 0]\n",
    "        return df\n",
    "\n",
    "\n",
    "logging.debug('read_purchase: return: \\n' + str(read_purchase()))"
   ]
  },
  {
   "cell_type": "code",
   "execution_count": 65,
   "metadata": {},
   "outputs": [
    {
     "name": "stderr",
     "output_type": "stream",
     "text": [
      " 2020-09-26 11:30:19,902 -  DEBUG -  read_bu: return: \n",
      "    cat    bu        bu_name\n",
      "0   135  B1-1            MWO\n",
      "1   187  B1-2            PCI\n",
      "2   195    C1            SOL\n",
      "3   196    C1            SOL\n",
      "4   200    D2            IDP\n",
      "5   202    D2  IDP B2B AQUOS\n",
      "6   211  B1-4            CAL\n",
      "7   213    D1         AL SPL\n",
      "8   243    D1       PPC D HW\n",
      "9   244    D1      PPC D SPL\n",
      "10  117    G1         LCD TV\n",
      "11  203    G1        LCD B2B\n"
     ]
    }
   ],
   "source": [
    "def read_bu(targetFile):\n",
    "    # business_unit preparation from csv and add to sqlite3 t_business_unit table\n",
    "\n",
    "    df = pd.read_csv(targetFile)\n",
    "    df = df.rename(\n",
    "        columns={\n",
    "            \"prod_category\": \"cat\",\n",
    "            \"business_unit\": \"bu\",\n",
    "            \"bu_description\": \"bu_name\",\n",
    "        }\n",
    "    )\n",
    "\n",
    "    return df\n",
    "\n",
    "logging.debug('read_bu: return: \\n' + str(read_bu('csv_data/business_unit.csv')))"
   ]
  },
  {
   "cell_type": "code",
   "execution_count": 226,
   "metadata": {},
   "outputs": [
    {
     "name": "stderr",
     "output_type": "stream",
     "text": [
      " 2020-09-28 01:30:37,846 -  DEBUG -  read_rate: return: \n",
      "         month  rate_yen\n",
      "0   2019-08-01      5.07\n",
      "1   2019-09-01      5.07\n",
      "2   2019-10-01      5.07\n",
      "3   2019-11-01      5.07\n",
      "4   2019-12-01      5.07\n",
      "..         ...       ...\n",
      "135 2030-11-01      4.36\n",
      "136 2030-12-01      4.36\n",
      "137 2031-01-01      4.36\n",
      "138 2031-02-01      4.36\n",
      "139 2031-03-01      4.36\n",
      "\n",
      "[140 rows x 2 columns]\n"
     ]
    }
   ],
   "source": [
    "def read_rate(targetFile):\n",
    "    # Rate table preparation from csv and add to sqlite3 t_rate table\n",
    "\n",
    "    df = pd.read_csv(targetFile, parse_dates=[0])\n",
    "    df = df.rename(columns={\"rate_month\": \"month\"})\n",
    "        \n",
    "    # Modify the inv_month to have 1st date of the month, just in case.\n",
    "    df[\"month\"] = df[\"month\"].apply(lambda x: x.replace(day=1))\n",
    "\n",
    "    return df\n",
    "\n",
    "\n",
    "logging.debug('read_rate: return: \\n' + str(read_rate(\"csv_data/rate.csv\")))"
   ]
  },
  {
   "cell_type": "code",
   "execution_count": 246,
   "metadata": {},
   "outputs": [
    {
     "name": "stderr",
     "output_type": "stream",
     "text": [
      " 2020-09-28 02:11:14,091 -  DEBUG -  read_aging: return: \n",
      "    age  month_diff  new_age\n",
      "0    30           0       30\n",
      "1    30           1       30\n",
      "2    30           2       30\n",
      "3    30           3       30\n",
      "4    30           4       30\n",
      "..  ...         ...      ...\n",
      "86  999           8      270\n",
      "87  999           9      270\n",
      "88  999          10      360\n",
      "89  999          11      360\n",
      "90  999          12      360\n",
      "\n",
      "[91 rows x 3 columns]\n"
     ]
    }
   ],
   "source": [
    "def read_aging(targetFile):\n",
    "    # Rate table preparation from csv and add to sqlite3 t_aging table\n",
    "\n",
    "    df = pd.read_csv(targetFile, index_col=0)\n",
    "    df = df.rename(\n",
    "        columns={\n",
    "            \"age_n0\": 0,\n",
    "            \"age_n1\": 1,\n",
    "            \"age_n2\": 2,\n",
    "            \"age_n3\": 3,\n",
    "            \"age_n4\": 4,\n",
    "            \"age_n5\": 5,\n",
    "            \"age_n6\": 6,\n",
    "            \"age_n7\": 7,\n",
    "            \"age_n8\": 8,\n",
    "            \"age_n9\": 9,\n",
    "            \"age_n10\": 10,\n",
    "            \"age_n11\": 11,\n",
    "            \"age_n12\": 12,\n",
    "        }\n",
    "    )\n",
    "\n",
    "    df = df.stack()\n",
    "    df = df.reset_index()\n",
    "    df = df.rename(columns={\"age_actual\": \"age\", \"level_1\": \"month_diff\", 0: \"new_age\"})\n",
    "\n",
    "    return df\n",
    "\n",
    "\n",
    "logging.debug(\"read_aging: return: \\n\" + str(read_aging(\"csv_data/aging.csv\")))"
   ]
  },
  {
   "cell_type": "code",
   "execution_count": 150,
   "metadata": {},
   "outputs": [
    {
     "name": "stderr",
     "output_type": "stream",
     "text": [
      " 2020-09-27 22:26:22,766 -  DEBUG -  return : \n",
      "          month               model\n",
      "1999 2020-08-01          2TC32CF2UR\n",
      "2000 2020-08-01          2TC45CF2UR\n",
      "2001 2020-08-01           4TB60CJ1U\n",
      "2002 2020-08-01           4TB70CJ1U\n",
      "2003 2020-08-01          4TC60BK2UD\n",
      "...         ...                 ...\n",
      "119  2019-08-01     SOLTUERCAFL5/16\n",
      "120  2019-08-01  SOLTUERCAHEX5/16OX\n",
      "121  2019-08-01      SOLVARILL15MTS\n",
      "122  2019-08-01          WC-COA-MPE\n",
      "123  2019-08-01          WC-COA-PRO\n",
      "\n",
      "[2831 rows x 2 columns]\n"
     ]
    }
   ],
   "source": [
    "def latest_ps():\n",
    "    \n",
    "    df1 = read_sales()\n",
    "    df1 = df1[['month', 'model']]\n",
    "    df2 = read_purchase()\n",
    "    df2 = df2[['month', 'model']]\n",
    "    df = df1.append(df2)\n",
    "    \n",
    "    # Make a dataframe which has the latest p or s movement by month and model.\n",
    "    df = df.drop_duplicates()\n",
    "    df = df.sort_values(['month', 'model'], ascending=[False, True])\n",
    "    \n",
    "    return df\n",
    "\n",
    "\n",
    "logging.debug('return : \\n' + str(latest_ps()))  "
   ]
  },
  {
   "cell_type": "code",
   "execution_count": 248,
   "metadata": {},
   "outputs": [
    {
     "name": "stderr",
     "output_type": "stream",
     "text": [
      " 2020-09-28 02:12:00,371 -  DEBUG -  return : \n",
      "          month               model  age   month_ps  month_diff  new_age\n",
      "0    2019-09-01             AL100DR   30 2019-09-01         0.0     30.0\n",
      "1    2019-09-01             AL100DR   90 2019-09-01         0.0     30.0\n",
      "2    2019-09-01             AL100DR  180 2019-09-01         0.0     30.0\n",
      "3    2019-09-01             AL100RD   30 2019-09-01         0.0     30.0\n",
      "4    2019-09-01           AL100RD/U  180 2019-09-01         0.0     30.0\n",
      "...         ...                 ...  ...        ...         ...      ...\n",
      "8094 2020-08-01      SOLVARILL001/4  999 2020-06-01         2.0     60.0\n",
      "8095 2020-08-01      SOLVARILL15MTS  360 2020-06-01         2.0     60.0\n",
      "8096 2020-08-01  SOLVARILLA5/16-1MO   90 2020-06-01         2.0     60.0\n",
      "8097 2020-08-01    SORIELBONDJUMPER   60 2020-07-01         1.0     30.0\n",
      "8098 2020-08-01    SORIELBONDJUMPER   90 2020-07-01         1.0     30.0\n",
      "\n",
      "[8099 rows x 6 columns]\n"
     ]
    },
    {
     "name": "stdout",
     "output_type": "stream",
     "text": [
      "new_age(): Successfully finished without error\n"
     ]
    }
   ],
   "source": [
    "def new_age():\n",
    "\n",
    "    try:\n",
    "        df1 = read_inv()\n",
    "        df1 = df1.drop([\"cat\", \"qty\", \"amt\"], axis=1)\n",
    "        df2 = latest_ps()\n",
    "        df = pd.merge(df1, df2, on=\"model\", how=\"left\", suffixes=[\"_inv\", \"_ps\"])\n",
    "        df = df.loc[df[\"month_inv\"] >= df[\"month_ps\"]]\n",
    "\n",
    "        # Make a dataframe which has the latest p or s movement by model.\n",
    "        grouped = df.groupby([\"month_inv\", \"model\", \"age\"])\n",
    "        df = df.loc[grouped[\"month_ps\"].idxmax(), :]\n",
    "\n",
    "        # Add month_diff column\n",
    "        df[\"month_diff\"] = (df[\"month_inv\"].dt.year - df[\"month_ps\"].dt.year) * 12 + (\n",
    "            df[\"month_inv\"].dt.month - df[\"month_ps\"].dt.month\n",
    "        )\n",
    "\n",
    "        # Make inv list recovering the dropped item with month diff = 11.\n",
    "        df = df.rename(columns={\"month_inv\": \"month\"})\n",
    "        df = pd.merge(df1, df, on=[\"month\", \"model\", \"age\"], how=\"left\")\n",
    "        df = df.fillna({\"month_diff\": 999})\n",
    "\n",
    "        # Convert month_diff to new_age\n",
    "        df3 = read_aging(\"csv_data/aging.csv\")\n",
    "        df = pd.merge(df, df3, on=[\"age\", \"month_diff\"], how=\"left\")\n",
    "\n",
    "    except Exception as e:\n",
    "        print(e)\n",
    "\n",
    "    else:\n",
    "        print(\"new_age(): Successfully finished without error\")\n",
    "        return df\n",
    "\n",
    "\n",
    "logging.debug(\"return : \\n\" + str(new_age()))"
   ]
  }
 ],
 "metadata": {
  "kernelspec": {
   "display_name": "Python 3",
   "language": "python",
   "name": "python3"
  },
  "language_info": {
   "codemirror_mode": {
    "name": "ipython",
    "version": 3
   },
   "file_extension": ".py",
   "mimetype": "text/x-python",
   "name": "python",
   "nbconvert_exporter": "python",
   "pygments_lexer": "ipython3",
   "version": "3.8.5"
  }
 },
 "nbformat": 4,
 "nbformat_minor": 4
}
