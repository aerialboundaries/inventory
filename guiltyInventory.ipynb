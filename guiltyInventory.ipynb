{
 "cells": [
  {
   "cell_type": "markdown",
   "metadata": {},
   "source": [
    "## Prepare the latest sales record\n",
    "6 months sales record history to reset the inventory aging time.\n",
    "The guilty inventory count starts from the month of no sales.\n",
    "\n",
    "1.  Delete the blank rows of the excel to have the header as 1st row.\n",
    "2.  Save the excel by csv"
   ]
  },
  {
   "cell_type": "code",
   "execution_count": 2,
   "metadata": {},
   "outputs": [],
   "source": [
    "import pandas as pd\n",
    "import sqlite3\n"
   ]
  },
  {
   "cell_type": "code",
   "execution_count": 12,
   "metadata": {},
   "outputs": [
    {
     "data": {
      "text/plain": [
       "<sqlite3.Cursor at 0x1682fed2180>"
      ]
     },
     "execution_count": 12,
     "metadata": {},
     "output_type": "execute_result"
    }
   ],
   "source": [
    "# Connect to sqlite3\n",
    "conn = sqlite3.connect('guilty_inventory.sqlite3')\n",
    "c = conn.cursor()\n",
    "\n",
    "# Create tables\n",
    "# t_sales table\n",
    "c.execute('''\n",
    "create table if not exists t_sales (sales_month text, sales_model text,\n",
    "sales_qty int, sales_amt float, primary key(sales_month, sales_model))\n",
    "''')\n",
    "\n",
    "# t_purchase table\n",
    "c.execute('''\n",
    "create table if not exists t_purchase (purchase_month text, purchase_model text,\n",
    "purchase_qty int, purchase_amt float, primary key(purchase_month, purchase_model))\n",
    "''')\n",
    "\n",
    "# t_inv table\n",
    "c.execute('''\n",
    "create table if not exists t_inv (inv_month text, inv_model text, inv_cat int,\n",
    "inv_qty int, inv_amt float, primary key(inv_month, inv_model))\n",
    "''')\n",
    "\n",
    "# Close connection to sqlite3\n",
    "c.close()\n",
    "conn.close()\n"
   ]
  },
  {
   "cell_type": "code",
   "execution_count": 40,
   "metadata": {
    "scrolled": true
   },
   "outputs": [],
   "source": [
    "# # Sales record preparation\n",
    "\n",
    "# targetFile = 'sales-201909-202008.csv'\n",
    "# useCols = ['Billing doc. date', 'Material', 'Net Qty', 'Net $']\n",
    "# dataType = {'Net Qty': int, 'Net $': float}\n",
    "\n",
    "# df = pd.read_csv(targetFile, usecols=useCols, parse_dates=[0])\n",
    "# df = df.rename(columns={'Billing doc. date': 'sales_month', \n",
    "#                         'Material': 'sales_model', 'Net Qty': 'sales_qty',\n",
    "#                        'Net $': 'sales_amt'})\n",
    "# # If YYYYMM string is necessary instead of datetim364[ns] enable below.\n",
    "# df['sales_month'] = df['sales_month'].dt.strftime('%Y%m')\n",
    "# grouped = df.groupby(['sales_month', 'sales_model'], as_index=False)\n",
    "# #print(grouped.sum())\n",
    "# grouped.dtypes"
   ]
  },
  {
   "cell_type": "code",
   "execution_count": 17,
   "metadata": {},
   "outputs": [],
   "source": [
    "def t_sales_update_csv(targetFile):\n",
    "    # Sales record preparation from csv and add to sqlite3 t_sales table\n",
    "    # Copy the original sheet to a new sheet & paste value and save as csv.\n",
    "    # Billing doc. date must be formatted to date (ex: 2020/8/2)\n",
    "\n",
    "    useCols = ['Billing doc. date', 'Material', 'Net Qty', 'Net $']\n",
    "\n",
    "    df = pd.read_csv(targetFile, usecols=useCols, parse_dates=[0])\n",
    "    df = df.rename(columns={'Billing doc. date': 'sales_month', \n",
    "                        'Material': 'sales_model', 'Net Qty': 'sales_qty',\n",
    "                       'Net $': 'sales_amt'})\n",
    "    # If YYYYMM string is necessary instead of datetim364[ns] enable below.\n",
    "    df['sales_month'] = df['sales_month'].dt.strftime('%Y%m')\n",
    "    grouped = df.groupby(['sales_month', 'sales_model'], as_index=False)\n",
    "    # print(grouped.sum())\n",
    "    \n",
    "    # Connect to sqlite3\n",
    "    conn = sqlite3.connect('guilty_inventory.sqlite3')\n",
    "    c = conn.cursor()\n",
    "    \n",
    "    # Add grouped.sum() into t_sales table\n",
    "    grouped.sum().to_sql('t_sales', conn, if_exists='append', index=None)\n",
    "    \n",
    "    # Close connection to sqlite3\n",
    "    c.close()\n",
    "    conn.close()\n",
    "\n",
    "    \n",
    "t_sales_update_csv('201910.csv')"
   ]
  },
  {
   "cell_type": "code",
   "execution_count": 14,
   "metadata": {},
   "outputs": [
    {
     "name": "stdout",
     "output_type": "stream",
     "text": [
      "    sales_month  sales_model  sales_qty  sales_amt\n",
      "0        201909      AL100DR         84  102527.86\n",
      "1        201909    AL100RD/U        408   52412.05\n",
      "2        201909    AL100RT/U         30    4598.25\n",
      "3        201909     AL100TDN         55   64295.78\n",
      "4        201909   AL204RTC/U       1320  292547.80\n",
      "..          ...          ...        ...        ...\n",
      "219      201909       R21LTF         24  162714.85\n",
      "220      201909       R22GTF          7   88708.00\n",
      "221      201909       SFSC11          1     696.14\n",
      "222      201909  SFV19.50KWP          1  570000.00\n",
      "223      201909       SR560M          2   27000.00\n",
      "\n",
      "[224 rows x 4 columns]\n"
     ]
    }
   ],
   "source": [
    "def t_sales_update_excel(targetFile):\n",
    "    # Sales record preparation from xlsx and add to sqlite3 t_sales table\n",
    "    # Copy the original sheet to a new sheet & paste value and save as xlsx.\n",
    "    # Billing doc. date must be formatted to date (ex: 2020/8/2)\n",
    "\n",
    "    useCols = ['Billing doc. date', 'Material', 'Net Qty', 'Net $']\n",
    "\n",
    "    df = pd.read_excel(targetFile, usecols=useCols, parse_dates=[0])\n",
    "    df = df.rename(columns={'Billing doc. date': 'sales_month', \n",
    "                        'Material': 'sales_model', 'Net Qty': 'sales_qty',\n",
    "                       'Net $': 'sales_amt'})\n",
    "    # If YYYYMM string is necessary instead of datetim364[ns] enable below.\n",
    "    df['sales_month'] = df['sales_month'].dt.strftime('%Y%m')\n",
    "    grouped = df.groupby(['sales_month', 'sales_model'], as_index=False)\n",
    "    print(grouped.sum())\n",
    "\n",
    "    \n",
    "t_sales_update_excel('201909.xlsx')\n"
   ]
  },
  {
   "cell_type": "code",
   "execution_count": null,
   "metadata": {},
   "outputs": [],
   "source": []
  }
 ],
 "metadata": {
  "kernelspec": {
   "display_name": "Python 3",
   "language": "python",
   "name": "python3"
  },
  "language_info": {
   "codemirror_mode": {
    "name": "ipython",
    "version": 3
   },
   "file_extension": ".py",
   "mimetype": "text/x-python",
   "name": "python",
   "nbconvert_exporter": "python",
   "pygments_lexer": "ipython3",
   "version": "3.8.5"
  }
 },
 "nbformat": 4,
 "nbformat_minor": 4
}
