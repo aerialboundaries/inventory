{
 "cells": [
  {
   "cell_type": "markdown",
   "metadata": {},
   "source": [
    "## Prepare the latest sales record\n",
    "6 months sales record history to reset the inventory aging time.\n",
    "The guilty inventory count starts from the month of no sales.\n",
    "\n",
    "1.  Delete the blank rows of the excel to have the header as 1st row.\n",
    "2.  Save the excel by csv"
   ]
  },
  {
   "cell_type": "code",
   "execution_count": 21,
   "metadata": {},
   "outputs": [
    {
     "name": "stdout",
     "output_type": "stream",
     "text": [
      "      sales_month sales_model  sales_qty\n",
      "0          201911  4TC60BK2UD      240.0\n",
      "1          201911  4TC60BK2UD      240.0\n",
      "2          201911  4TC60BK2UD      240.0\n",
      "3          201911  4TC60BK2UD      240.0\n",
      "4          201911  4TC60BK2UD      240.0\n",
      "...           ...         ...        ...\n",
      "25304      202008     MXM3571        2.0\n",
      "25305      202008      MX3051        1.0\n",
      "25306      202008     MXB350W        1.0\n",
      "25307      202008     MXHD15N        1.0\n",
      "25308      202008      MXRB24        6.0\n",
      "\n",
      "[25309 rows x 3 columns]\n"
     ]
    }
   ],
   "source": [
    "import pandas as pd\n",
    "\n",
    "targetFile = 'sales-201909-202008.csv'\n",
    "useCols = ['Billing doc. date', 'Material', 'Net Qty']\n",
    "\n",
    "df = pd.read_csv(targetFile, usecols=useCols, parse_dates=[0])\n",
    "df = df.rename(columns={'Billing doc. date': 'sales_month', 'Material': 'sales_model', 'Net Qty': 'sales_qty'})\n",
    "df['sales_month'] = df['sales_month'].dt.strftime('%Y%m')\n",
    "print(df)"
   ]
  },
  {
   "cell_type": "code",
   "execution_count": null,
   "metadata": {},
   "outputs": [],
   "source": []
  }
 ],
 "metadata": {
  "kernelspec": {
   "display_name": "Python 3",
   "language": "python",
   "name": "python3"
  },
  "language_info": {
   "codemirror_mode": {
    "name": "ipython",
    "version": 3
   },
   "file_extension": ".py",
   "mimetype": "text/x-python",
   "name": "python",
   "nbconvert_exporter": "python",
   "pygments_lexer": "ipython3",
   "version": "3.8.3"
  }
 },
 "nbformat": 4,
 "nbformat_minor": 4
}
